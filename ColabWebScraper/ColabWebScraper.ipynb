{
 "cells": [
  {
   "cell_type": "markdown",
   "metadata": {
    "id": "dDfI9wbfID8W"
   },
   "source": [
    "# Web Scraper de Indicadores de Ativos\n",
    "\n",
    "Requirements:\n",
    "- gspread 4.0.1\n",
    "- pandas 1.3.5\n",
    "- requests 2.23.0"
   ]
  },
  {
   "cell_type": "code",
   "execution_count": null,
   "metadata": {
    "id": "YxAb8oPpo4Vy"
   },
   "outputs": [],
   "source": [
    "from google.colab import drive\n",
    "drive.mount('/content/drive')"
   ]
  },
  {
   "cell_type": "code",
   "execution_count": null,
   "metadata": {
    "id": "vNQTT63AHQKq"
   },
   "outputs": [],
   "source": [
    "%%capture\n",
    "!pip install --upgrade beautifulsoup4"
   ]
  },
  {
   "cell_type": "code",
   "execution_count": null,
   "metadata": {
    "id": "tMxzpEjIF4f6"
   },
   "outputs": [],
   "source": [
    "# Usar essa instalação ou adaptar o código\n",
    "%%capture\n",
    "!pip install https://github.com/burnash/gspread/releases/download/v4.0.1/gspread-4.0.1.tar.gz"
   ]
  },
  {
   "cell_type": "code",
   "execution_count": null,
   "metadata": {
    "id": "9xYJvmn8gdTY"
   },
   "outputs": [],
   "source": [
    "import gspread\n",
    "from gspread_dataframe import set_with_dataframe"
   ]
  },
  {
   "cell_type": "code",
   "execution_count": null,
   "metadata": {
    "id": "yV6v4i2j8IYK"
   },
   "outputs": [],
   "source": [
    "import requests\n",
    "import pandas as pd\n",
    "from bs4 import BeautifulSoup"
   ]
  },
  {
   "cell_type": "code",
   "execution_count": null,
   "metadata": {
    "id": "EaFsoLvy5YDU"
   },
   "outputs": [],
   "source": [
    "requests.__version__"
   ]
  },
  {
   "cell_type": "code",
   "execution_count": null,
   "metadata": {
    "id": "mDBn96g48IYN"
   },
   "outputs": [],
   "source": [
    "# Definir a lista de Ativos que terão seus indicadores coletados\n",
    "\n",
    "list_acao = [\n",
    "  'BBSE3',\n",
    "  'CCRO3',\n",
    "  'BBAS3',\n",
    "  'SAPR4',\n",
    "  'MGLU3',\n",
    "  'BBDC4',\n",
    "  'ITSA4',\n",
    "  'DIRR3',\n",
    "  'CSMG3',\n",
    "  'GRND3',\n",
    "  'KLBN4',\n",
    "  'TRIS3',\n",
    "  'YDUQ3',\n",
    "  'ELET3',\n",
    "  'ENBR3',\n",
    "  'TAEE4',\n",
    "  'CMIG4',\n",
    "  'AESB3',\n",
    "  'SHUL4',\n",
    "  'FESA4',\n",
    "  'STBP3',\n",
    "  'AZUL4',\n",
    "  'OIBR4',\n",
    "  'GOLL4',\n",
    "  'OIBR3',\n",
    "  'COGN3',\n",
    "  'ROMI3',\n",
    "  'ENAT3',\n",
    "  'VIVT3',\n",
    "  'PCAR3',\n",
    "  'CSMG3',\n",
    "  'MRVE3',\n",
    "  'TRPL4',\n",
    "  'CYRE3',\n",
    "  'EGIE3',\n",
    "  'IRBR3',\n",
    "  'NGRD3',\n",
    "  'LAME4',\n",
    "  'VIIA3'\n",
    "]\n",
    "\n",
    "list_fii = [\n",
    "  'RECT11',\n",
    "  'BRCR11',\n",
    "  'HSML11',\n",
    "  'RECR11',\n",
    "  'GGRC11',\n",
    "  'HGRE11',\n",
    "  'SDIL11',\n",
    "  'RBFF11',\n",
    "  'HCTR11',\n",
    "  'MALL11',\n",
    "  'TGAR11',\n",
    "  'HFOF11',\n",
    "  'HTMX11',\n",
    "  'CPTS11',\n",
    "  'KNRI11',\n",
    "  'VISC11',\n",
    "  'BCFF11',\n",
    "  'VINO11',\n",
    "  'VILG11',\n",
    "  'MXRF11'\n",
    "]"
   ]
  },
  {
   "cell_type": "code",
   "execution_count": null,
   "metadata": {
    "id": "XxkN37YS9Za_"
   },
   "outputs": [],
   "source": [
    "# Definir as planílhas onde os dados serão salvos\n",
    "\n",
    "spreadsheetId_acao = '11qJs0uNM0jnRB6t-FeJpiS6ZahXvzlDzxW6aZ6zhhOQ' #### PRECISA SER ALTERADO ####\n",
    "\n",
    "spreadsheetId_fii = '1BG4BUFA_eo1TZ21Z2g4k2jAvuwVT1CV3lv4kiohalQ0'   #### PRECISA SER ALTERADO ####"
   ]
  },
  {
   "cell_type": "code",
   "execution_count": null,
   "metadata": {
    "id": "tpgjloAemUBB"
   },
   "outputs": [],
   "source": [
    "class AssetScraper():\n",
    "    def __init__(self, assetList, spreadsheetId):\n",
    "        self.assetList = assetList\n",
    "        self.spreadsheetId = spreadsheetId\n",
    "\n",
    "    def exportAssetDataframe(self): \n",
    "            if self.assetDataframe.empty:\n",
    "                raise RuntimeError(\"Build the asset sheet first to export it\")\n",
    "\n",
    "            #### ABAIXO COLOCAR O CAMINHO DO LOCAL ONDE SUA CHAVE DE PROJETO ESTÁ LOCALIZADA ####\n",
    "            gc = gspread.service_account(filename='/content/drive/MyDrive/Investimentos/Controles/projeto-web-scrapper-8d9f697f95a8.json') #### PRECISA SER ALTERADO ####\n",
    "\n",
    "            # Acessa o google sheet\n",
    "            sheet = gc.open_by_key(self.spreadsheetId)\n",
    "            worksheet = sheet.sheet1\n",
    "\n",
    "            # Limpa o conteúdo prévio\n",
    "            worksheet.clear()\n",
    "\n",
    "            # Adiciona os dados a spreadsheet\n",
    "            set_with_dataframe(worksheet, self.assetDataframe) #-> THIS EXPORTS YOUR DATAFRAME TO THE GOOGLE SHEET"
   ]
  },
  {
   "cell_type": "code",
   "execution_count": null,
   "metadata": {
    "id": "IFpX-yMOmkWK"
   },
   "outputs": [],
   "source": [
    "class FiiScraper(AssetScraper):\n",
    "    \n",
    "    def __init__(self, assetList, spreadsheetId):\n",
    "        super().__init__(assetList, spreadsheetId)\n",
    "      \n",
    "        self.baseUrl = 'https://www.fundsexplorer.com.br/ranking'\n",
    "\n",
    "        page = requests.get(self.baseUrl)\n",
    "        worksheet = pd.read_html(page.text)[0]\n",
    "\n",
    "        # Mantém apenas os FIIs que estão na lista\n",
    "        worksheet = worksheet[worksheet['Códigodo fundo'].isin(self.assetList)]\n",
    "\n",
    "        # Tratamento da coluna p/vp pra porque vem multiplicada por 100\n",
    "        worksheet['P/VPA'] = worksheet['P/VPA']/100\n",
    "\n",
    "        # Manter apenas as necessárias\n",
    "        worksheet = worksheet[[\n",
    "        'Códigodo fundo',\n",
    "        'Setor',\n",
    "        'Preço Atual',\n",
    "        'Liquidez Diária',\n",
    "        'DividendYield',\n",
    "        'DY (12M)Média',\n",
    "        'DY Ano',\n",
    "        'DY (12M)Acumulado',\n",
    "        'PatrimônioLíq.',\n",
    "        'P/VPA',\n",
    "        'VacânciaFísica',\n",
    "        'VacânciaFinanceira',\n",
    "        'QuantidadeAtivos'    \n",
    "        ]]\n",
    "\n",
    "        self.assetDataframe = worksheet"
   ]
  },
  {
   "cell_type": "code",
   "execution_count": null,
   "metadata": {
    "id": "vhB4Qu3xoMiW"
   },
   "outputs": [],
   "source": [
    "class AcaoScraper(AssetScraper):\n",
    "    \n",
    "    def __init__(self, assetList, spreadsheetId):\n",
    "        super().__init__(assetList, spreadsheetId) \n",
    "          \n",
    "        self.baseUrl = 'https://statusinvest.com.br/acoes/'\n",
    "\n",
    "        self.assetIndicators = {\n",
    "            'P/VP': {'selector': '#indicators-section > div.indicator-today-container > div > div:nth-child(1) > div > div:nth-child(4) > div > div > strong'},\n",
    "            \n",
    "            'DY12M': {'selector': '#main-2 > div:nth-child(4) > div > div.pb-3.pb-md-5 > div > div:nth-child(4) > div > div:nth-child(1) > strong'},\n",
    "\n",
    "            \"PL\": {'selector': '#indicators-section > div.indicator-today-container > div > div:nth-child(1) > div > div:nth-child(2) > div > div > strong'},\n",
    "\n",
    "            \"ROE\": {'selector': '#indicators-section > div.indicator-today-container > div > div:nth-child(4) > div > div:nth-child(1) > div > div > strong'},\n",
    "\n",
    "            \"ROIC\": {'selector': '#indicators-section > div.indicator-today-container > div > div:nth-child(4) > div > div:nth-child(3) > div > div > strong'},\n",
    "\n",
    "            \"M.LIQUIDA\": {'selector': '#indicators-section > div.indicator-today-container > div > div:nth-child(3) > div > div:nth-child(4) > div > div > strong'},\n",
    "\n",
    "            \"EV/EBITDA\": {'selector': '#indicators-section > div.indicator-today-container > div > div:nth-child(1) > div > div:nth-child(5) > div > div > strong'},\n",
    "\n",
    "            \"DIV.LIQUIDA/EBITDA\": {'selector': '#indicators-section > div.indicator-today-container > div > div:nth-child(2) > div > div:nth-child(2) > div > div > strong'}\n",
    "        }\n",
    "        \n",
    "        for indicator in self.assetIndicators:\n",
    "            self.assetIndicators[indicator]['values'] = []\n",
    "\n",
    "        for asset in self.assetList:\n",
    "            print(\"Processing asset: %s ...\" % asset)\n",
    "\n",
    "            page = requests.get(self.baseUrl + asset)    \n",
    "            soup = BeautifulSoup(page.content, 'html.parser')\n",
    "\n",
    "            for indicator in self.assetIndicators:\n",
    "                try: \n",
    "                    indicatorValue = soup.select(self.assetIndicators[indicator]['selector'])[0].string\n",
    "                except IndexError:\n",
    "                    indicatorValue = 'ERROR'\n",
    "                self.assetIndicators[indicator]['values'].append(indicatorValue)\n",
    "\n",
    "            print(\"........................................... Processing finished\\n\\n\")\n",
    "\n",
    "        # Monta o Dataframe\n",
    "        DataframeColumns = {\"Ativo\": self.assetList}\n",
    "\n",
    "        for indicator in self.assetIndicators:\n",
    "            DataframeColumns[indicator] = self.assetIndicators[indicator]['values']\n",
    "        self.assetDataframe = pd.DataFrame(DataframeColumns)"
   ]
  },
  {
   "cell_type": "code",
   "execution_count": null,
   "metadata": {
    "id": "4qQkm8KFhulL"
   },
   "outputs": [],
   "source": [
    "acao_scraper = AcaoScraper(list_acao, spreadsheetId_acao)"
   ]
  },
  {
   "cell_type": "code",
   "execution_count": null,
   "metadata": {
    "id": "rFAEatNPCq2R"
   },
   "outputs": [],
   "source": [
    "acao_scraper.assetDataframe"
   ]
  },
  {
   "cell_type": "code",
   "execution_count": null,
   "metadata": {
    "id": "I2HzaJdsC7mA"
   },
   "outputs": [],
   "source": [
    "acao_scraper.exportAssetDataframe()"
   ]
  },
  {
   "cell_type": "code",
   "execution_count": null,
   "metadata": {
    "id": "XjIjI9reE7id"
   },
   "outputs": [],
   "source": [
    "fii_scraper = FiiScraper(list_fii, spreadsheetId_fii)"
   ]
  },
  {
   "cell_type": "code",
   "execution_count": null,
   "metadata": {
    "id": "I8ZuZQFfFh_S"
   },
   "outputs": [],
   "source": [
    "fii_scraper.assetDataframe"
   ]
  },
  {
   "cell_type": "code",
   "execution_count": null,
   "metadata": {
    "id": "e36k_bqNkzWi"
   },
   "outputs": [],
   "source": [
    "fii_scraper.exportAssetDataframe()"
   ]
  }
 ],
 "metadata": {
  "colab": {
   "collapsed_sections": [],
   "name": "ColabWebScraper.ipynb",
   "provenance": [
    {
     "file_id": "1oP5HzgVnuiULrzLjvRrupfaJ-BlxC6k1",
     "timestamp": 1638061852576
    },
    {
     "file_id": "1qbkB-XUxdHucqC3nI6kBbOGNYqcgUIUX",
     "timestamp": 1638047800205
    },
    {
     "file_id": "1Qo0anMoe820qtt8nPPQD83cN8pzThrMS",
     "timestamp": 1637882063885
    },
    {
     "file_id": "13y1vYutm8RYtJXk-JLtV88jeg3joF5zs",
     "timestamp": 1637874240717
    },
    {
     "file_id": "1oBJe5p2P31L714BlphCdzz4b6bGRQqRO",
     "timestamp": 1637713189213
    }
   ]
  },
  "kernelspec": {
   "display_name": "Python 3",
   "language": "python",
   "name": "python3"
  },
  "language_info": {
   "codemirror_mode": {
    "name": "ipython",
    "version": 3
   },
   "file_extension": ".py",
   "mimetype": "text/x-python",
   "name": "python",
   "nbconvert_exporter": "python",
   "pygments_lexer": "ipython3",
   "version": "3.6.10"
  }
 },
 "nbformat": 4,
 "nbformat_minor": 1
}
